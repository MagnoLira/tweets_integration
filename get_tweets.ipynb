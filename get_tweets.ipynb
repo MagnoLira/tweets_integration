{
 "cells": [
  {
   "cell_type": "code",
   "execution_count": 1,
   "metadata": {},
   "outputs": [],
   "source": [
    "### Libraries \n",
    "import pandas as pd \n",
    "import tweepy as ty \n",
    "import numpy as np\n",
    "import json \n",
    "import requests"
   ]
  },
  {
   "cell_type": "code",
   "execution_count": 4,
   "metadata": {},
   "outputs": [],
   "source": [
    "class KeyManager:\n",
    "    def __init__(self):\n",
    "        \"\"\"Load API keys from a config file.\"\"\"\n",
    "        self.keys = self.load_keys()\n",
    "\n",
    "    def load_keys(self):\n",
    "        \"\"\"Fetch keys from config.json.\"\"\"\n",
    "        try:\n",
    "            with open(\"config.json\", \"r\") as f:\n",
    "                return json.load(f)\n",
    "        except FileNotFoundError:\n",
    "            print(\"Error: config.json not found.\")\n",
    "            return None\n",
    "\n",
    "class XApplication:\n",
    "    def __init__(self, key_manager: KeyManager):\n",
    "        \"\"\"Initialize X API credentials using the provided key manager.\"\"\"\n",
    "        self.bearer_token = key_manager.keys[\"BEARER_TOKEN\"]  # Adicione essa chave no config.json\n",
    "        self.client = ty.Client(bearer_token=self.bearer_token)\n",
    "\n",
    "class TweetFetcher:\n",
    "    def __init__(self, x_app: XApplication):\n",
    "        \"\"\"Initialize with XApplication credentials.\"\"\"\n",
    "        self.client = x_app.client\n",
    "\n",
    "    def get_user_tweets(self, username, count=10):\n",
    "        \"\"\"Fetch recent tweets from a specific user using Tweepy (API v2).\"\"\"\n",
    "        try:\n",
    "            query = f\"from:{username} -is:retweet\"\n",
    "            tweets = self.client.search_recent_tweets(query=query, max_results=count)\n",
    "\n",
    "            if tweets.data:\n",
    "                return [tweet.text for tweet in tweets.data]\n",
    "            else:\n",
    "                print(\"No tweets found.\")\n",
    "                return None\n",
    "        except ty.TweepyException as e:\n",
    "            print(f\"Error: {e}\")\n",
    "            return None"
   ]
  },
  {
   "cell_type": "code",
   "execution_count": 5,
   "metadata": {},
   "outputs": [],
   "source": [
    "key_manager = KeyManager()\n",
    "app = XApplication(key_manager)"
   ]
  },
  {
   "cell_type": "code",
   "execution_count": 6,
   "metadata": {},
   "outputs": [
    {
     "name": "stdout",
     "output_type": "stream",
     "text": [
      "[\"Farooq and Charles have been steadfast about Rain's mission from day 1. And I love using them as the canonical example of consistency. ~3 years of monthly updates. So much respect for this team. https://t.co/TR9MvCBZa5 https://t.co/MuAcP3DGWx\", '@DavidSacks Can’t think of a company better positioned than @glean to tackle this.', '@BenStiller That ending was very Tarantino!', '@catebligh @tunguz This is the only correct answer', \"@rohanpaul_ai Check out @synthefyinc's TS model - it's multi-modal, and natively built for TS datasets.\", 'AI task competence is doubling every ~7 months, but primarily in software engineering domains so far. SWE is likely to accelerate all other domains because:\\n\\n1. Code is the universal translator between domains\\n2. Software tools built by AI will make non-SWE tasks more tractable https://t.co/0f8yp5PAsx', 'Robotics Foundation Models (RFMs) are at their GPT-3 moment: the convergence of scaling laws, multi-modal models, and simulation technologies is the perfect confluence for innovation in robotics.\\n\\nGreat post by @shawnjain08 about the opportunities in robotics:', 'Formula for AI agents success: Find large highly fragmented industry with low NPS; vertically integrate an AI-first solution to simplify value product. https://t.co/zfWUSH8yjB', 'Formula for AI agents success: Find large highly fragemented industry with low NPS; vertically integrate an AI-first solution to simplify value product. https://t.co/zfWUSH8yjB', '@naman_kapasi you are* too late. \\n\\nYour welcome.']\n"
     ]
    }
   ],
   "source": [
    "fetcher = TweetFetcher(app)\n",
    "tweets = fetcher.get_user_tweets('AI',count=10)\n",
    "print(tweets)"
   ]
  },
  {
   "cell_type": "code",
   "execution_count": 7,
   "metadata": {},
   "outputs": [
    {
     "data": {
      "text/plain": [
       "[\"Farooq and Charles have been steadfast about Rain's mission from day 1. And I love using them as the canonical example of consistency. ~3 years of monthly updates. So much respect for this team. https://t.co/TR9MvCBZa5 https://t.co/MuAcP3DGWx\",\n",
       " '@DavidSacks Can’t think of a company better positioned than @glean to tackle this.',\n",
       " '@BenStiller That ending was very Tarantino!',\n",
       " '@catebligh @tunguz This is the only correct answer',\n",
       " \"@rohanpaul_ai Check out @synthefyinc's TS model - it's multi-modal, and natively built for TS datasets.\",\n",
       " 'AI task competence is doubling every ~7 months, but primarily in software engineering domains so far. SWE is likely to accelerate all other domains because:\\n\\n1. Code is the universal translator between domains\\n2. Software tools built by AI will make non-SWE tasks more tractable https://t.co/0f8yp5PAsx',\n",
       " 'Robotics Foundation Models (RFMs) are at their GPT-3 moment: the convergence of scaling laws, multi-modal models, and simulation technologies is the perfect confluence for innovation in robotics.\\n\\nGreat post by @shawnjain08 about the opportunities in robotics:',\n",
       " 'Formula for AI agents success: Find large highly fragmented industry with low NPS; vertically integrate an AI-first solution to simplify value product. https://t.co/zfWUSH8yjB',\n",
       " 'Formula for AI agents success: Find large highly fragemented industry with low NPS; vertically integrate an AI-first solution to simplify value product. https://t.co/zfWUSH8yjB',\n",
       " '@naman_kapasi you are* too late. \\n\\nYour welcome.']"
      ]
     },
     "execution_count": 7,
     "metadata": {},
     "output_type": "execute_result"
    }
   ],
   "source": [
    "tweets"
   ]
  },
  {
   "cell_type": "code",
   "execution_count": null,
   "metadata": {},
   "outputs": [],
   "source": []
  }
 ],
 "metadata": {
  "kernelspec": {
   "display_name": "Python 3",
   "language": "python",
   "name": "python3"
  },
  "language_info": {
   "codemirror_mode": {
    "name": "ipython",
    "version": 3
   },
   "file_extension": ".py",
   "mimetype": "text/x-python",
   "name": "python",
   "nbconvert_exporter": "python",
   "pygments_lexer": "ipython3",
   "version": "3.10.10"
  }
 },
 "nbformat": 4,
 "nbformat_minor": 2
}
